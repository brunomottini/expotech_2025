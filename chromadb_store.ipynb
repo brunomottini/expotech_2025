{
 "cells": [
  {
   "cell_type": "code",
   "execution_count": 15,
   "metadata": {},
   "outputs": [],
   "source": [
    "import os\n",
    "from dotenv import load_dotenv, find_dotenv\n",
    "\n",
    "\n",
    "from langchain_community.document_loaders import PyPDFLoader\n",
    "\n",
    "from langchain.text_splitter import RecursiveCharacterTextSplitter, NLTKTextSplitter\n",
    "from langchain_openai import OpenAIEmbeddings\n",
    "from langchain_openai import ChatOpenAI\n",
    "from langchain_chroma import Chroma\n",
    "\n",
    "import openai"
   ]
  },
  {
   "cell_type": "code",
   "execution_count": 16,
   "metadata": {},
   "outputs": [],
   "source": [
    "# Variables\n",
    "_ = load_dotenv(find_dotenv())  # read local .env file\n",
    "load_dotenv()\n",
    "openai.api_key = os.environ[\"OPENAI_API_KEY\"]"
   ]
  },
  {
   "cell_type": "code",
   "execution_count": 17,
   "metadata": {},
   "outputs": [],
   "source": [
    "# Carga de documentos\n",
    "sources = [\n",
    "    \"./retriever_documents/informacion_general_11_24.pdf\",\n",
    "]\n",
    "\n",
    "def load_pdf(sources):\n",
    "    docs = []\n",
    "\n",
    "    for source in sources:\n",
    "        loaders = [PyPDFLoader(source)]\n",
    "        for loader in loaders:\n",
    "            docs.extend(loader.load())\n",
    "\n",
    "    return docs"
   ]
  },
  {
   "cell_type": "code",
   "execution_count": 18,
   "metadata": {},
   "outputs": [],
   "source": [
    "# generar split de documentos\n",
    "def RecursiveCharacterTextSplitter_text_splitter(docs):\n",
    "    text_splitter = RecursiveCharacterTextSplitter(\n",
    "        chunk_size=800,\n",
    "        chunk_overlap=150,\n",
    "    )\n",
    "\n",
    "    splits = text_splitter.split_documents(docs)\n",
    "\n",
    "    return splits\n",
    "\n",
    "\n",
    "def NLTKTextSplitter_text_splitter(docs):\n",
    "    text_splitter = NLTKTextSplitter(chunk_size=1000)\n",
    "\n",
    "    splits = text_splitter.split_documents(docs)\n",
    "\n",
    "    return splits"
   ]
  },
  {
   "cell_type": "code",
   "execution_count": 19,
   "metadata": {},
   "outputs": [],
   "source": [
    "# Generar Nuevo Indice\n",
    "\n",
    "persist_directory = \"./chroma_docs/expotech_2025/\"\n",
    "\n",
    "def generate_vectordb_from_pdf_store(source, text_splitter, persist_directory):\n",
    "\n",
    "    docs = load_pdf(source)\n",
    "    splits = text_splitter(docs)\n",
    "\n",
    "    embedding = OpenAIEmbeddings(openai_api_key=openai.api_key)\n",
    "    vectordb = Chroma.from_documents(\n",
    "        documents=splits, embedding=embedding, persist_directory=persist_directory\n",
    "    )\n",
    "\n",
    "    return vectordb"
   ]
  },
  {
   "cell_type": "code",
   "execution_count": 21,
   "metadata": {},
   "outputs": [],
   "source": [
    "# Actualizar indice existente\n",
    "def update_vectordb_with_new_pdfs(sources, text_splitter, persist_directory):\n",
    "    # Cargar los documentos existentes en ChromaDB\n",
    "    embedding = OpenAIEmbeddings(openai_api_key=openai.api_key)\n",
    "    vectordb = Chroma(persist_directory=persist_directory, embedding_function=embedding)\n",
    "\n",
    "    # Cargar y procesar los nuevos PDFs\n",
    "    docs = load_pdf(sources)\n",
    "    splits = text_splitter(docs)\n",
    "\n",
    "    # Agregar los nuevos documentos al índice existente\n",
    "    vectordb.add_documents(documents=splits)\n",
    "\n",
    "    # Persistir los cambios en el directorio\n",
    "    #vectordb.persist()\n",
    "\n",
    "\n",
    "\n",
    "\n",
    "\n",
    "sources = [\"./retriever_documents/visnai.pdf\",]\n",
    "persist_directory = \"./chroma_docs/expotech_2025/\"\n",
    "\n",
    "update_vectordb_with_new_pdfs(sources, RecursiveCharacterTextSplitter_text_splitter, persist_directory )\n",
    "\n"
   ]
  },
  {
   "cell_type": "code",
   "execution_count": null,
   "metadata": {},
   "outputs": [],
   "source": []
  },
  {
   "cell_type": "code",
   "execution_count": null,
   "metadata": {},
   "outputs": [],
   "source": []
  },
  {
   "cell_type": "code",
   "execution_count": null,
   "metadata": {},
   "outputs": [],
   "source": []
  },
  {
   "cell_type": "code",
   "execution_count": null,
   "metadata": {},
   "outputs": [],
   "source": []
  },
  {
   "cell_type": "code",
   "execution_count": null,
   "metadata": {},
   "outputs": [],
   "source": []
  }
 ],
 "metadata": {
  "kernelspec": {
   "display_name": "expotech_2025",
   "language": "python",
   "name": "python3"
  },
  "language_info": {
   "codemirror_mode": {
    "name": "ipython",
    "version": 3
   },
   "file_extension": ".py",
   "mimetype": "text/x-python",
   "name": "python",
   "nbconvert_exporter": "python",
   "pygments_lexer": "ipython3",
   "version": "3.12.3"
  }
 },
 "nbformat": 4,
 "nbformat_minor": 2
}
