{
 "cells": [
  {
   "cell_type": "code",
   "execution_count": 7,
   "metadata": {},
   "outputs": [
    {
     "data": {
      "text/plain": [
       "True"
      ]
     },
     "execution_count": 7,
     "metadata": {},
     "output_type": "execute_result"
    }
   ],
   "source": [
    "import os\n",
    "from dotenv import load_dotenv\n",
    "\n",
    "\n",
    "from langchain_community.vectorstores.azuresearch import AzureSearch\n",
    "from langchain_openai import OpenAIEmbeddings\n",
    "\n",
    "from langchain_community.document_loaders import TextLoader\n",
    "from langchain_text_splitters import CharacterTextSplitter\n",
    "from langchain_community.document_loaders import PyPDFLoader\n",
    "\n",
    "load_dotenv()"
   ]
  },
  {
   "cell_type": "code",
   "execution_count": 8,
   "metadata": {},
   "outputs": [],
   "source": [
    "# Settings\n",
    "vector_store_address = os.environ.get(\"YOUR_AZURE_SEARCH_ENDPOINT\")\n",
    "vector_store_password = os.environ.get(\"YOUR_AZURE_SEARCH_ADMIN_KEY\")\n",
    "openai_api_key = os.environ.get(\"OPENAI_API_KEY\")"
   ]
  },
  {
   "cell_type": "code",
   "execution_count": 9,
   "metadata": {},
   "outputs": [],
   "source": [
    "# Option 1: Use OpenAIEmbeddings with OpenAI account for  embeddings \n",
    "model: str = \"text-embedding-ada-002\"\n",
    "\n",
    "embeddings: OpenAIEmbeddings = OpenAIEmbeddings(\n",
    "    openai_api_key=openai_api_key, model=model\n",
    ")"
   ]
  },
  {
   "cell_type": "code",
   "execution_count": 10,
   "metadata": {},
   "outputs": [],
   "source": [
    "# vector store instances\n",
    "index_name: str = \"expotech25_v1\"\n",
    "\n",
    "vector_store: AzureSearch = AzureSearch(\n",
    "    azure_search_endpoint=vector_store_address,\n",
    "    azure_search_key=vector_store_password,\n",
    "    index_name=index_name,\n",
    "    embedding_function=embeddings.embed_query,\n",
    ")"
   ]
  },
  {
   "cell_type": "code",
   "execution_count": 11,
   "metadata": {},
   "outputs": [
    {
     "data": {
      "text/plain": [
       "['ZDdiYTU2ZjMtOGQxOC00NjQzLTliMGMtMmRiMzE3NzZjMjMx',\n",
       " 'OTU1MTQwZGQtNjM1YS00ZWEwLTk3OGItZDkxY2VlZjBkYWY0',\n",
       " 'MjEzNWM3NDAtOWFhZC00ODMzLTgyYTktY2YzOTZlNDM5Zjli',\n",
       " 'NTg4ZTUxOWYtMjg3Ny00YzU3LWFhOTctYTY4MjRmMGI4YzM0',\n",
       " 'NWI3ZTQ0MzItNDJhOC00NjdkLWEwYTAtNmU2ODFlNWJiNDNl',\n",
       " 'NTNjOTI0ZDUtZDFhZC00MjA4LTk2MWEtNzc3MmU1Mzk5NWJh']"
      ]
     },
     "execution_count": 11,
     "metadata": {},
     "output_type": "execute_result"
    }
   ],
   "source": [
    "# Insert text and embeddings into vector store\n",
    "sources = [\n",
    "    \"./retriever_documents/dsinergia.pdf\",\n",
    "    \"./retriever_documents/camara_comercio.pdf\",\n",
    "    \"./retriever_documents/informacion_general.pdf\"\n",
    "]\n",
    "def load_pdf(sources):\n",
    "    docs = []\n",
    "\n",
    "    for source in sources:\n",
    "        loaders = [PyPDFLoader(source)]\n",
    "        for loader in loaders:\n",
    "            docs.extend(loader.load())\n",
    "\n",
    "    return docs\n",
    "\n",
    "documents = load_pdf(sources)\n",
    "\n",
    "text_splitter = CharacterTextSplitter(chunk_size=1000, chunk_overlap=0)\n",
    "docs = text_splitter.split_documents(documents)\n",
    "\n",
    "vector_store.add_documents(documents=docs)\n"
   ]
  },
  {
   "cell_type": "code",
   "execution_count": 12,
   "metadata": {},
   "outputs": [
    {
     "name": "stdout",
     "output_type": "stream",
     "text": [
      "Sobre Dsinergia: \n",
      "Dsinergia Corp. es una empresa de consultoría con sede en Ciudad de Panamá, Panamá, que se \n",
      "especializa en integración de sistemas, diseño, desarrollo, innovación, calidad y seguridad de \n",
      "datos. Su misión es colaborar estrechamente con sus clientes para proporcionar sinergia en cada \n",
      "oportunidad, maximizando los resultados con el menor esfuerzo posible. El equipo de Dsinergia \n",
      "está compuesto por profesionales de diversas disciplinas, como negocios, ingeniería, tecnología y \n",
      "programación, con experiencia en países como Panamá, Puerto Rico, México, Venezuela, \n",
      "Colombia, Estados Unidos, España y Costa Rica. Desde su fundación en 2012, la empresa se ha \n",
      "enfocado en aprovechar la experiencia de su equipo y en crear sinergia en cada una de sus \n",
      "iniciativas. \n",
      " \n",
      "Dsinergia y la Inteligencia Artificial: \n",
      "Dsinergia Corp. ha establecido una alianza estratégica con HM Analytical LLC, establecida en \n",
      "Estados Unidos en el Estado de la Florida, para crear Visn AI, una empresa que busca revolucionar \n",
      "la manera en que las pequeñas y medianas empresas aprovechan el poder de la inteligencia \n",
      "artificial. Esta colaboración combina la experiencia de Dsinergia en consultoría con la innovación \n",
      "en la toma de decisiones empresariales, permitiendo a las organizaciones acceder a herramientas \n",
      "avanzadas para decisiones inteligentes y sostenibles.  \n",
      "La filosofía central de Visn AI se basa en la sinergia entre la inteligencia humana y la artificial, \n",
      "reconociendo que, aunque los sistemas de IA proporcionan análisis avanzados, la comprensión y \n",
      "experiencia humanas son esenciales para garantizar la sostenibilidad y aplicabilidad de estas \n",
      "soluciones.  \n",
      "A través de Visn AI, Dsinergia se relaciona con la inteligencia artificial al integrar estas tecnologías \n",
      "en sus servicios de consultoría, ofreciendo a las empresas soluciones que combinan lo mejor de la \n",
      "inteligencia humana y artificial para la toma de decisiones estratégicas. \n",
      " \n",
      "Acuerdo entre Dsinergia y La Cámara de Comercio, Industrias y Agricultura de Panamá \n",
      "(CCIAP): \n",
      "En noviembre de 2024 Dsinergia y la Cámara de Comercio de Panamá, con el objetivo de mejorar la \n",
      "experiencia de los asistentes y participantes de la ExpoTech 2025 llegaron a un acuerdo para la \n",
      "implementación de un chatbot de inteligencia artificial (IA) capaz de proporcionar información \n",
      "valiosa, gestionar interacciones y optimizar los procesos de participación en la expo. Este chatbot \n",
      "hoy día se llama ExpoVisn.\n"
     ]
    }
   ],
   "source": [
    "# Perform a vector similarity search\n",
    "docs = vector_store.similarity_search(\n",
    "    query=\"que hace Dsinergia?\",\n",
    "    k=3,\n",
    "    search_type=\"similarity\",\n",
    ")\n",
    "print(docs[0].page_content)"
   ]
  },
  {
   "cell_type": "code",
   "execution_count": 13,
   "metadata": {},
   "outputs": [
    {
     "name": "stdout",
     "output_type": "stream",
     "text": [
      "[(Document(metadata={'id': 'NTg4ZTUxOWYtMjg3Ny00YzU3LWFhOTctYTY4MjRmMGI4YzM0', 'source': './retriever_documents/informacion_general.pdf', 'page': 1}, page_content='5. Actualización en tendencias tecnológicas: Puedes conocer las innovaciones y \\ndesarrollos recientes en el sector, manteniéndote al día con los avances \\ntecnológicos y aplicando ese conocimiento en tu negocio. \\n6. Generación de oportunidades de negocio: La EXPO TECH está diseñada para \\nayudar a las empresas a encontrar nuevos socios y clientes. Las oportunidades de \\ncolaboración y las ventas pueden surgir durante o después del evento. \\n \\nPlanes de Exhibición Disponibles: \\n1. Plan A: \\no Inversión: $1,200.00 + ITBMS \\no Incluye un espacio físico de 3 metros x 2 metros, salida eléctrica hasta 500 \\nwatts, seguridad general, aire acondicionado, iluminación general y aseo \\ngeneral. \\n2. Plan B: \\no Inversión: $1,500.00 + ITBMS \\no Incluye un stand de 3 metros x 2 metros con paredes blancas de melamina, \\nuna mesa con dos sillas y cesto de basura, toma corriente hasta 500 watts, \\niluminación con interruptor, rótulo con el nombre de la empresa en la fascia, \\naire acondicionado, iluminación general y aseo general.  \\nPara inscribirte a alguno de estos planes de Exhibición debes llenar al formulario online que \\nse encuentra en la siguiente dirección: https://forms.office.com/r/u506FuCueM  \\n \\nOportunidades de Patrocinio: \\nEXPO TECH 2025 brinda opciones de patrocinio que permiten a las empresas posicionarse \\ncomo líderes en innovación y tecnología. Los patrocinadores obtienen beneficios \\nadicionales, como mayor visibilidad de marca y oportunidades exclusivas de promoción.  \\n \\nContacto para Participación: \\nPara más información sobre la participación como expositor o patrocinador, puede \\ncomunicarse a través del correo electrónico tecnologia@panacamara.org o al teléfono +507 \\n207-3497.'),\n",
      "  0.88676405),\n",
      " (Document(metadata={'id': 'NWI3ZTQ0MzItNDJhOC00NjdkLWEwYTAtNmU2ODFlNWJiNDNl', 'source': './retriever_documents/informacion_general.pdf', 'page': 2}, page_content='Detalles especiales de esta Sexta Edición: \\nEsta sexta edición de EXPOTECH es especial, ya que marca un hito en la evolución de esta \\nferia. Ya que será las más grande y con mayor acceso en la historia de esta. Aquí los detalles \\nque hacen especial esta edición. \\n• Será por primera vez de tres días, permitiendo mayor interacción entre los \\nexpositores y visitantes. \\n• Se dará en conjunto la EXPOCOMER, https://www.expocomer.com,(la feria más \\ngrande de exposición comercial de Panamá) donde participarán más de 30 países \\nde Europa, Asia y América. Permitiendo que tanto los expositores como los \\nparticipantes de EXPOCOMER puedan participar de EXPOTECH \\n• Contará con espacios disponibles para 40 participantes. \\n• También se darán en conjunto ExpoLogistica Panamá, ExpoTurismo Internacional, \\nExpoFranquicia y ExpoElectrica Internacional. Permitiendo interactuar con todos los \\nexpositores y visitantes de estas otras exposiciones. \\n \\nAcceso de Visitantes: \\nPara las ferias habrá durante un período (aun no definido) disponibilidad de acceso gratuito \\npara visitantes. Luego de este período habrá dos tipos de acceso que tendrán costos. El \\nprimero será de $15.00 por acceso de un día y otra de $25.00 por acceso a los tres días de \\nla expo.  \\n \\nPorque participar de EXPOTECH: \\n• Incremente la visibilidad de su marca y realice conexiones valiosas en el creciente \\nsector tecnológico, donde podrá exhibir sus productos o servicios, e interactuar \\ndirectamente con los asistentes y potenciales clientes, lo que será una excelente \\noportunidad para recibir una retroalimentación muy valiosa. \\n• EXPO TECH es sin duda el lugar donde conectarse con los más grandes innovadores \\ny tomadores de decisiones en el mundo de la tecnología, es la oportunidad para \\nestablecer nuevos contactos y hacer importantes conexiones. \\n• Impulse la participación de sus clientes y cree mayor conciencia de marca. \\n• Promocione sus últimas ofertas tecnológicas a una multitud de asistentes \\ninteresados.'),\n",
      "  0.8786116),\n",
      " (Document(metadata={'id': 'MjEzNWM3NDAtOWFhZC00ODMzLTgyYTktY2YzOTZlNDM5Zjli', 'source': './retriever_documents/informacion_general.pdf', 'page': 0}, page_content='EXPOTECH VI Edición, Panamá 2025 \\n \\nDescripción General: \\nEXPO TECH 2025 es la feria tecnológica más destacada del año en Panamá, organizada por \\nla Cámara de Comercio, Industrias y Agricultura de Panamá (CCIAP). Su Sexta Edición se \\nllevará a cabo del 25 al 27 de marzo de 2025 en el Panama Convention Center, ubicado en \\nAmador, Ciudad de Panamá. El horario de la expo será de 11:00AM a 7:00PM.  El website \\noficial de la ExpoTech es https://www.panacamara.com/expotech/ \\n \\nObjetivo del Evento: \\nEXPO TECH 2025 tiene como propósito reunir a líderes de la industria, emprendedores y \\nentusiastas de la tecnología para explorar las últimas innovaciones y tendencias del mundo \\ndigital. Es una plataforma que facilita el acceso a los avances más innovadores de la \\nindustria tecnológica, ofreciendo una visión completa de las tendencias actuales.  \\n \\nBeneficios y ventajas para los Expositores: \\nAl participar como expositor en EXPO TECH, disfrutará de una plataforma excepcional para \\npromocionar sus productos, interactuar con clientes potenciales y fortalecer su presencia \\nen el mercado. Sus principales beneficios: \\n \\n1. Exposición y visibilidad: Tu marca se muestra ante un público interesado en \\ntecnología, innovación y tendencias, lo que aumenta la visibilidad y puede atraer \\nnuevos clientes y colaboradores. \\n2. Networking: Es una oportunidad para conectar con otros profesionales de la \\nindustria, intercambiar ideas, construir relaciones y explorar posibles \\ncolaboraciones. \\n3. Conocimiento de la competencia: Puedes conocer los productos y servicios que \\nestán ofreciendo otras empresas, lo que te permite identificar tendencias, aprender \\nde tus competidores y ajustar tu estrategia. \\n4. Lanzamiento de productos: Si tienes un nuevo producto o servicio, la EXPO TECH \\nes un excelente lugar para lanzarlo. La audiencia está formada por personas \\ninteresadas en novedades, por lo que puedes obtener un buen nivel de atención y \\nretroalimentación.'),\n",
      "  0.867052),\n",
      " (Document(metadata={'id': 'NTNjOTI0ZDUtZDFhZC00MjA4LTk2MWEtNzc3MmU1Mzk5NWJh', 'source': './retriever_documents/informacion_general.pdf', 'page': 3}, page_content='Exposiciones anteriores: \\nLa primera EXPOTECH se llevó a cabo en 2019 y contó con la participación de las mayores \\nempresas de telecomunicaciones de Panamá, al igual que con la participación de grandes \\nempresas locales de tecnología.  \\nEn el 2020, con el reto de la Pandemia por COVID19, se efectuó su segunda edición. Esta \\nvez de manera virtual, donde 14 empresas hicieron sus presentaciones, las cuales aún \\npuedes ver en nuestro canal de Youtube, https://www.youtube.com/@CCIYAP .  \\nEn 2021 EXPOTECH regresó en su tercera edición a su modalidad presencial, logrando una \\nparticipación de nueve empresas, lo que se consideró un éxito dada las aprensiones aún de \\nmuchas empresas en participar de temas masivos de manera presencial.  \\nEn 2022, EXPOTECH logra la participación de 23 empresas en modo presencial, marcando \\nel repunte de esta importante exposición. Aumentando además la participación de \\nempresas multinacionales. \\nPor varias situaciones fuera de la voluntad de la Cámara de Comercio de Panamá, la quinta \\nedición de EXPOTECH fue efectuada en 2024. Sin embargo, esta quinta edición contó con la \\nparticipación de 33 empresas, tanto nacionales como multinacionales y extranjeras. Siendo \\nla edición más concurrida al momento. \\n \\nOrganización de la ExpoTech: \\nLa ExpoTech es organizada por la Cámara de Comercio, Industrias y Agricultura de Panamá \\n(CCIAP). Su organización es liderada por la Dirección de Tecnología y apoyada por la \\nDirección de Exposiciones, Eventos, Formación Profesional y Desarrollos Empresariales.'),\n",
      "  0.8602511)]\n"
     ]
    }
   ],
   "source": [
    "# Perform a vector similarity search with relevance scores\n",
    "\n",
    "docs_and_scores = vector_store.similarity_search_with_relevance_scores(\n",
    "    query=\"cuales son las ventajas de participar de la expotech?\",\n",
    "    k=4,\n",
    "    score_threshold=0.80,\n",
    ")\n",
    "from pprint import pprint\n",
    "\n",
    "pprint(docs_and_scores)"
   ]
  },
  {
   "cell_type": "code",
   "execution_count": 14,
   "metadata": {},
   "outputs": [
    {
     "name": "stdout",
     "output_type": "stream",
     "text": [
      "EXPOTECH VI Edición, Panamá 2025 \n",
      " \n",
      "Descripción General: \n",
      "EXPO TECH 2025 es la feria tecnológica más destacada del año en Panamá, organizada por \n",
      "la Cámara de Comercio, Industrias y Agricultura de Panamá (CCIAP). Su Sexta Edición se \n",
      "llevará a cabo del 25 al 27 de marzo de 2025 en el Panama Convention Center, ubicado en \n",
      "Amador, Ciudad de Panamá. El horario de la expo será de 11:00AM a 7:00PM.  El website \n",
      "oficial de la ExpoTech es https://www.panacamara.com/expotech/ \n",
      " \n",
      "Objetivo del Evento: \n",
      "EXPO TECH 2025 tiene como propósito reunir a líderes de la industria, emprendedores y \n",
      "entusiastas de la tecnología para explorar las últimas innovaciones y tendencias del mundo \n",
      "digital. Es una plataforma que facilita el acceso a los avances más innovadores de la \n",
      "industria tecnológica, ofreciendo una visión completa de las tendencias actuales.  \n",
      " \n",
      "Beneficios y ventajas para los Expositores: \n",
      "Al participar como expositor en EXPO TECH, disfrutará de una plataforma excepcional para \n",
      "promocionar sus productos, interactuar con clientes potenciales y fortalecer su presencia \n",
      "en el mercado. Sus principales beneficios: \n",
      " \n",
      "1. Exposición y visibilidad: Tu marca se muestra ante un público interesado en \n",
      "tecnología, innovación y tendencias, lo que aumenta la visibilidad y puede atraer \n",
      "nuevos clientes y colaboradores. \n",
      "2. Networking: Es una oportunidad para conectar con otros profesionales de la \n",
      "industria, intercambiar ideas, construir relaciones y explorar posibles \n",
      "colaboraciones. \n",
      "3. Conocimiento de la competencia: Puedes conocer los productos y servicios que \n",
      "están ofreciendo otras empresas, lo que te permite identificar tendencias, aprender \n",
      "de tus competidores y ajustar tu estrategia. \n",
      "4. Lanzamiento de productos: Si tienes un nuevo producto o servicio, la EXPO TECH \n",
      "es un excelente lugar para lanzarlo. La audiencia está formada por personas \n",
      "interesadas en novedades, por lo que puedes obtener un buen nivel de atención y \n",
      "retroalimentación.\n"
     ]
    }
   ],
   "source": [
    "# Perform a hybrid search using the search_type parameter\n",
    "docs = vector_store.similarity_search(\n",
    "    query=\"cuales son las ventajas de participar de la expotech?\",\n",
    "    k=3,\n",
    "    search_type=\"hybrid\",\n",
    ")\n",
    "print(docs[0].page_content)"
   ]
  },
  {
   "cell_type": "code",
   "execution_count": 15,
   "metadata": {},
   "outputs": [
    {
     "name": "stdout",
     "output_type": "stream",
     "text": [
      "EXPOTECH VI Edición, Panamá 2025 \n",
      " \n",
      "Descripción General: \n",
      "EXPO TECH 2025 es la feria tecnológica más destacada del año en Panamá, organizada por \n",
      "la Cámara de Comercio, Industrias y Agricultura de Panamá (CCIAP). Su Sexta Edición se \n",
      "llevará a cabo del 25 al 27 de marzo de 2025 en el Panama Convention Center, ubicado en \n",
      "Amador, Ciudad de Panamá. El horario de la expo será de 11:00AM a 7:00PM.  El website \n",
      "oficial de la ExpoTech es https://www.panacamara.com/expotech/ \n",
      " \n",
      "Objetivo del Evento: \n",
      "EXPO TECH 2025 tiene como propósito reunir a líderes de la industria, emprendedores y \n",
      "entusiastas de la tecnología para explorar las últimas innovaciones y tendencias del mundo \n",
      "digital. Es una plataforma que facilita el acceso a los avances más innovadores de la \n",
      "industria tecnológica, ofreciendo una visión completa de las tendencias actuales.  \n",
      " \n",
      "Beneficios y ventajas para los Expositores: \n",
      "Al participar como expositor en EXPO TECH, disfrutará de una plataforma excepcional para \n",
      "promocionar sus productos, interactuar con clientes potenciales y fortalecer su presencia \n",
      "en el mercado. Sus principales beneficios: \n",
      " \n",
      "1. Exposición y visibilidad: Tu marca se muestra ante un público interesado en \n",
      "tecnología, innovación y tendencias, lo que aumenta la visibilidad y puede atraer \n",
      "nuevos clientes y colaboradores. \n",
      "2. Networking: Es una oportunidad para conectar con otros profesionales de la \n",
      "industria, intercambiar ideas, construir relaciones y explorar posibles \n",
      "colaboraciones. \n",
      "3. Conocimiento de la competencia: Puedes conocer los productos y servicios que \n",
      "están ofreciendo otras empresas, lo que te permite identificar tendencias, aprender \n",
      "de tus competidores y ajustar tu estrategia. \n",
      "4. Lanzamiento de productos: Si tienes un nuevo producto o servicio, la EXPO TECH \n",
      "es un excelente lugar para lanzarlo. La audiencia está formada por personas \n",
      "interesadas en novedades, por lo que puedes obtener un buen nivel de atención y \n",
      "retroalimentación.\n"
     ]
    }
   ],
   "source": [
    "# Perform a hybrid search using the hybrid_search method\n",
    "docs = vector_store.hybrid_search(\n",
    "    query=\"cuales son las ventajas de participar de la expotech?\", k=3\n",
    ")\n",
    "print(docs[0].page_content)"
   ]
  },
  {
   "cell_type": "code",
   "execution_count": 49,
   "metadata": {},
   "outputs": [],
   "source": [
    "from langchain_ollama import ChatOllama, OllamaLLM\n",
    "from langchain.tools import tool\n",
    "\n",
    "llm = ChatOllama(\n",
    "    model=\"llama3.2\",\n",
    "    temperature=0,\n",
    "    # other params...\n",
    ")\n",
    "\n",
    "# llm = OllamaLLM(\n",
    "#     model=\"llama3.2\",\n",
    "#     temperature=0,\n",
    "# )\n",
    "\n",
    "\n",
    "@tool\n",
    "def informacion_bruno_mottini(nombre_usuario: str):\n",
    "    \"\"\"use this tool when user need information about Bruno Mottini\n",
    "    nombre_usuario: use CACACA\"\"\"\n",
    "\n",
    "    return \"bruno mottini un gran gran representante de la inteligencia y abundancia del mundo en el 2025\"\n",
    "\n",
    "tools = [informacion_bruno_mottini]\n",
    "\n",
    "\n",
    "modelo = llm.bind_tools(tools)"
   ]
  },
  {
   "cell_type": "code",
   "execution_count": 50,
   "metadata": {},
   "outputs": [
    {
     "name": "stdout",
     "output_type": "stream",
     "text": [
      "content='' additional_kwargs={} response_metadata={'model': 'llama3.2', 'created_at': '2024-11-28T14:02:59.5921571Z', 'done': True, 'done_reason': 'stop', 'total_duration': 4831334200, 'load_duration': 22696300, 'prompt_eval_count': 184, 'prompt_eval_duration': 2065000000, 'eval_count': 25, 'eval_duration': 2741000000, 'message': Message(role='assistant', content='', images=None, tool_calls=[ToolCall(function=Function(name='informacion_bruno_mottini', arguments={'nombre_usuario': 'CACACA'}))])} id='run-69c728e9-c874-4967-8ef9-ecccaf808fc3-0' tool_calls=[{'name': 'informacion_bruno_mottini', 'args': {'nombre_usuario': 'CACACA'}, 'id': '8b29b12e-f4d6-43cc-ab16-cec80f54e9aa', 'type': 'tool_call'}] usage_metadata={'input_tokens': 184, 'output_tokens': 25, 'total_tokens': 209}\n"
     ]
    }
   ],
   "source": [
    "respuesta = modelo.invoke(\"give me information about Bruno Mottini?\")\n",
    "print(respuesta)"
   ]
  },
  {
   "cell_type": "code",
   "execution_count": null,
   "metadata": {},
   "outputs": [],
   "source": []
  }
 ],
 "metadata": {
  "kernelspec": {
   "display_name": "expotech_2025",
   "language": "python",
   "name": "python3"
  },
  "language_info": {
   "codemirror_mode": {
    "name": "ipython",
    "version": 3
   },
   "file_extension": ".py",
   "mimetype": "text/x-python",
   "name": "python",
   "nbconvert_exporter": "python",
   "pygments_lexer": "ipython3",
   "version": "3.12.3"
  }
 },
 "nbformat": 4,
 "nbformat_minor": 2
}
