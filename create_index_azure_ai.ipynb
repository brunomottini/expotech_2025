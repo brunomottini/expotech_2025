{
 "cells": [
  {
   "cell_type": "code",
   "execution_count": null,
   "metadata": {},
   "outputs": [
    {
     "data": {
      "text/plain": [
       "True"
      ]
     },
     "execution_count": 8,
     "metadata": {},
     "output_type": "execute_result"
    }
   ],
   "source": [
    "import os\n",
    "from dotenv import load_dotenv\n",
    "\n",
    "\n",
    "from langchain_community.vectorstores.azuresearch import AzureSearch\n",
    "from langchain_openai import OpenAIEmbeddings\n",
    "\n",
    "from langchain_community.document_loaders import TextLoader\n",
    "from langchain_text_splitters import CharacterTextSplitter\n",
    "from langchain_community.document_loaders import PyPDFLoader\n",
    "\n",
    "load_dotenv()"
   ]
  },
  {
   "cell_type": "code",
   "execution_count": null,
   "metadata": {},
   "outputs": [],
   "source": [
    "# Settings\n",
    "vector_store_address = os.environ.get(\"YOUR_AZURE_SEARCH_ENDPOINT\")\n",
    "vector_store_password = os.environ.get(\"YOUR_AZURE_SEARCH_ADMIN_KEY\")\n",
    "openai_api_key = os.environ.get(\"OPENAI_API_KEY\")"
   ]
  },
  {
   "cell_type": "code",
   "execution_count": null,
   "metadata": {},
   "outputs": [],
   "source": [
    "# Option 1: Use OpenAIEmbeddings with OpenAI account for  embeddings \n",
    "model: str = \"text-embedding-ada-002\"\n",
    "\n",
    "embeddings: OpenAIEmbeddings = OpenAIEmbeddings(\n",
    "    openai_api_key=openai_api_key, model=model\n",
    ")"
   ]
  },
  {
   "cell_type": "code",
   "execution_count": null,
   "metadata": {},
   "outputs": [],
   "source": [
    "# vector store instances\n",
    "index_name: str = \"expotech25_v1\"\n",
    "\n",
    "vector_store: AzureSearch = AzureSearch(\n",
    "    azure_search_endpoint=vector_store_address,\n",
    "    azure_search_key=vector_store_password,\n",
    "    index_name=index_name,\n",
    "    embedding_function=embeddings.embed_query,\n",
    ")"
   ]
  },
  {
   "cell_type": "code",
   "execution_count": null,
   "metadata": {},
   "outputs": [
    {
     "data": {
      "text/plain": [
       "['NjhmODdlODMtM2FmNy00MTE3LWI5OGEtM2ViMzA3ZDYzZGMy',\n",
       " 'OWEwYWE4MjgtZWNiYS00YzlkLTlmMWQtY2Q3ODU2MjY0ZmMx',\n",
       " 'NDJkMWY5YzQtZmQ2MC00MmU1LWE1OWMtZjVjYWQwZjFlOTI2',\n",
       " 'NmVjNDlmZmYtOTUwNy00MzE4LWJiMTgtYWU5MzA0ZDVmNjEz']"
      ]
     },
     "execution_count": 12,
     "metadata": {},
     "output_type": "execute_result"
    }
   ],
   "source": [
    "# Insert text and embeddings into vector store\n",
    "sources = [\n",
    "    \"./retriever_documents/informacion_general_11_24.pdf\",\n",
    "]\n",
    "def load_pdf(sources):\n",
    "    docs = []\n",
    "\n",
    "    for source in sources:\n",
    "        loaders = [PyPDFLoader(source)]\n",
    "        for loader in loaders:\n",
    "            docs.extend(loader.load())\n",
    "\n",
    "    return docs\n",
    "\n",
    "documents = load_pdf(sources)\n",
    "\n",
    "text_splitter = CharacterTextSplitter(chunk_size=1000, chunk_overlap=0)\n",
    "docs = text_splitter.split_documents(documents)\n",
    "\n",
    "vector_store.add_documents(documents=docs)\n"
   ]
  },
  {
   "cell_type": "code",
   "execution_count": null,
   "metadata": {},
   "outputs": [
    {
     "name": "stdout",
     "output_type": "stream",
     "text": [
      "5. Actualización en tendencias tecnológicas: Puedes conocer las innovaciones y \n",
      "desarrollos recientes en el sector, manteniéndote al día con los avances \n",
      "tecnológicos y aplicando ese conocimiento en tu negocio. \n",
      "6. Generación de oportunidades de negocio: La EXPO TECH está diseñada para \n",
      "ayudar a las empresas a encontrar nuevos socios y clientes. Las oportunidades de \n",
      "colaboración y las ventas pueden surgir durante o después del evento. \n",
      " \n",
      "Planes de Exhibición Disponibles: \n",
      "1. Plan A: \n",
      "o Inversión: $1,200.00 + ITBMS \n",
      "o Incluye un espacio físico de 3 metros x 2 metros, salida eléctrica hasta 500 \n",
      "watts, seguridad general, aire acondicionado, iluminación general y aseo \n",
      "general. \n",
      "2. Plan B: \n",
      "o Inversión: $1,500.00 + ITBMS \n",
      "o Incluye un stand de 3 metros x 2 metros con paredes blancas de melamina, \n",
      "una mesa con dos sillas y cesto de basura, toma corriente hasta 500 watts, \n",
      "iluminación con interruptor, rótulo con el nombre de la empresa en la fascia, \n",
      "aire acondicionado, iluminación general y aseo general.  \n",
      "Para inscribirte a alguno de estos planes de Exhibición debes llenar al formulario online que \n",
      "se encuentra en la siguiente dirección: https://forms.office.com/r/u506FuCueM  \n",
      " \n",
      "Oportunidades de Patrocinio: \n",
      "EXPO TECH 2025 brinda opciones de patrocinio que permiten a las empresas posicionarse \n",
      "como líderes en innovación y tecnología. Los patrocinadores obtienen beneficios \n",
      "adicionales, como mayor visibilidad de marca y oportunidades exclusivas de promoción.  \n",
      " \n",
      "Contacto para Participación: \n",
      "Para más información sobre la participación como expositor o patrocinador, puede \n",
      "comunicarse a través del correo electrónico tecnologia@panacamara.org o al teléfono +507 \n",
      "207-3497.\n"
     ]
    }
   ],
   "source": [
    "# Perform a vector similarity search\n",
    "docs = vector_store.similarity_search(\n",
    "    query=\"cuales son las ventajas de participar de la expotech?\",\n",
    "    k=3,\n",
    "    search_type=\"similarity\",\n",
    ")\n",
    "print(docs[0].page_content)"
   ]
  },
  {
   "cell_type": "code",
   "execution_count": null,
   "metadata": {},
   "outputs": [
    {
     "name": "stdout",
     "output_type": "stream",
     "text": [
      "[(Document(metadata={'id': 'OWEwYWE4MjgtZWNiYS00YzlkLTlmMWQtY2Q3ODU2MjY0ZmMx', 'source': './retriever_documents/informacion_general_11_24.pdf', 'page': 1}, page_content='5. Actualización en tendencias tecnológicas: Puedes conocer las innovaciones y \\ndesarrollos recientes en el sector, manteniéndote al día con los avances \\ntecnológicos y aplicando ese conocimiento en tu negocio. \\n6. Generación de oportunidades de negocio: La EXPO TECH está diseñada para \\nayudar a las empresas a encontrar nuevos socios y clientes. Las oportunidades de \\ncolaboración y las ventas pueden surgir durante o después del evento. \\n \\nPlanes de Exhibición Disponibles: \\n1. Plan A: \\no Inversión: $1,200.00 + ITBMS \\no Incluye un espacio físico de 3 metros x 2 metros, salida eléctrica hasta 500 \\nwatts, seguridad general, aire acondicionado, iluminación general y aseo \\ngeneral. \\n2. Plan B: \\no Inversión: $1,500.00 + ITBMS \\no Incluye un stand de 3 metros x 2 metros con paredes blancas de melamina, \\nuna mesa con dos sillas y cesto de basura, toma corriente hasta 500 watts, \\niluminación con interruptor, rótulo con el nombre de la empresa en la fascia, \\naire acondicionado, iluminación general y aseo general.  \\nPara inscribirte a alguno de estos planes de Exhibición debes llenar al formulario online que \\nse encuentra en la siguiente dirección: https://forms.office.com/r/u506FuCueM  \\n \\nOportunidades de Patrocinio: \\nEXPO TECH 2025 brinda opciones de patrocinio que permiten a las empresas posicionarse \\ncomo líderes en innovación y tecnología. Los patrocinadores obtienen beneficios \\nadicionales, como mayor visibilidad de marca y oportunidades exclusivas de promoción.  \\n \\nContacto para Participación: \\nPara más información sobre la participación como expositor o patrocinador, puede \\ncomunicarse a través del correo electrónico tecnologia@panacamara.org o al teléfono +507 \\n207-3497.'),\n",
      "  0.88676405),\n",
      " (Document(metadata={'id': 'NDJkMWY5YzQtZmQ2MC00MmU1LWE1OWMtZjVjYWQwZjFlOTI2', 'source': './retriever_documents/informacion_general_11_24.pdf', 'page': 2}, page_content='Detalles especiales de esta Sexta Edición: \\nEsta sexta edición de EXPOTECH es especial, ya que marca un hito en la evolución de esta \\nferia. Ya que será las más grande y con mayor acceso en la historia de esta. Aquí los detalles \\nque hacen especial esta edición. \\n• Será por primera vez de tres días, permitiendo mayor interacción entre los \\nexpositores y visitantes. \\n• Se dará en conjunto la EXPOCOMER, https://www.expocomer.com,(la feria más \\ngrande de exposición comercial de Panamá) donde participarán más de 30 países \\nde Europa, Asia y América. Permitiendo que tanto los expositores como los \\nparticipantes de EXPOCOMER puedan participar de EXPOTECH \\n• Contará con espacios disponibles para 40 participantes. \\n• También se darán en conjunto ExpoLogistica Panamá, ExpoTurismo Internacional, \\nExpoFranquicia y ExpoElectrica Internacional. Permitiendo interactuar con todos los \\nexpositores y visitantes de estas otras exposiciones. \\n \\nAcceso de Visitantes: \\nPara las ferias habrá durante un período (aun no definido) disponibilidad de acceso gratuito \\npara visitantes. Luego de este período habrá dos tipos de acceso que tendrán costos. El \\nprimero será de $15.00 por acceso de un día y otra de $25.00 por acceso a los tres días de \\nla expo.  \\n \\nPorque participar de EXPOTECH: \\n• Incremente la visibilidad de su marca y realice conexiones valiosas en el creciente \\nsector tecnológico, donde podrá exhibir sus productos o servicios, e interactuar \\ndirectamente con los asistentes y potenciales clientes, lo que será una excelente \\noportunidad para recibir una retroalimentación muy valiosa. \\n• EXPO TECH es sin duda el lugar donde conectarse con los más grandes innovadores \\ny tomadores de decisiones en el mundo de la tecnología, es la oportunidad para \\nestablecer nuevos contactos y hacer importantes conexiones. \\n• Impulse la participación de sus clientes y cree mayor conciencia de marca. \\n• Promocione sus últimas ofertas tecnológicas a una multitud de asistentes \\ninteresados.'),\n",
      "  0.8786116),\n",
      " (Document(metadata={'id': 'NjhmODdlODMtM2FmNy00MTE3LWI5OGEtM2ViMzA3ZDYzZGMy', 'source': './retriever_documents/informacion_general_11_24.pdf', 'page': 0}, page_content='EXPOTECH VI Edición, Panamá 2025 \\n \\nDescripción General: \\nEXPO TECH 2025 es la feria tecnológica más destacada del año en Panamá, organizada por \\nla Cámara de Comercio, Industrias y Agricultura de Panamá (CCIAP). Su Sexta Edición se \\nllevará a cabo del 25 al 27 de marzo de 2025 en el Panama Convention Center, ubicado en \\nAmador, Ciudad de Panamá. El horario de la expo será de 11:00AM a 7:00PM \\n \\nObjetivo del Evento: \\nEXPO TECH 2025 tiene como propósito reunir a líderes de la industria, emprendedores y \\nentusiastas de la tecnología para explorar las últimas innovaciones y tendencias del mundo \\ndigital. Es una plataforma que facilita el acceso a los avances más innovadores de la \\nindustria tecnológica, ofreciendo una visión completa de las tendencias actuales.  \\n \\nBeneficios y ventajas para los Expositores: \\nAl participar como expositor en EXPO TECH, disfrutará de una plataforma excepcional para \\npromocionar sus productos, interactuar con clientes potenciales y fortalecer su presencia \\nen el mercado. Sus principales beneficios: \\n \\n1. Exposición y visibilidad: Tu marca se muestra ante un público interesado en \\ntecnología, innovación y tendencias, lo que aumenta la visibilidad y puede atraer \\nnuevos clientes y colaboradores. \\n2. Networking: Es una oportunidad para conectar con otros profesionales de la \\nindustria, intercambiar ideas, construir relaciones y explorar posibles \\ncolaboraciones. \\n3. Conocimiento de la competencia: Puedes conocer los productos y servicios que \\nestán ofreciendo otras empresas, lo que te permite identificar tendencias, aprender \\nde tus competidores y ajustar tu estrategia. \\n4. Lanzamiento de productos: Si tienes un nuevo producto o servicio, la EXPO TECH \\nes un excelente lugar para lanzarlo. La audiencia está formada por personas \\ninteresadas en novedades, por lo que puedes obtener un buen nivel de atención y \\nretroalimentación.'),\n",
      "  0.8664605),\n",
      " (Document(metadata={'id': 'NmVjNDlmZmYtOTUwNy00MzE4LWJiMTgtYWU5MzA0ZDVmNjEz', 'source': './retriever_documents/informacion_general_11_24.pdf', 'page': 3}, page_content='Exposiciones anteriores: \\nLa primera EXPOTECH se llevó a cabo en 2019 y contó con la participación de las mayores \\nempresas de telecomunicaciones de Panamá, al igual que con la participación de grandes \\nempresas locales de tecnología.  \\nEn el 2020, con el reto de la Pandemia por COVID19, se efectuó su segunda edición. Esta \\nvez de manera virtual, donde 14 empresas hicieron sus presentaciones, las cuales aún \\npuedes ver en nuestro canal de Youtube, https://www.youtube.com/@CCIYAP .  \\nEn 2021 EXPOTECH regresó en su tercera edición a su modalidad presencial, logrando una \\nparticipación de nueve empresas, lo que se consideró un éxito dada las aprensiones aún de \\nmuchas empresas en participar de temas masivos de manera presencial.  \\nEn 2022, EXPOTECH logra la participación de 23 empresas en modo presencial, marcando \\nel repunte de esta importante exposición. Aumentando además la participación de \\nempresas multinacionales. \\nPor varias situaciones fuera de la voluntad de la Cámara de Comercio de Panamá, la quinta \\nedición de EXPOTECH fue efectuada en 2024. Sin embargo, esta quinta edición contó con la \\nparticipación de 33 empresas, tanto nacionales como multinacionales y extranjeras. Siendo \\nla edición más concurrida al momento.'),\n",
      "  0.8623147)]\n"
     ]
    }
   ],
   "source": [
    "# Perform a vector similarity search with relevance scores\n",
    "\n",
    "docs_and_scores = vector_store.similarity_search_with_relevance_scores(\n",
    "    query=\"cuales son las ventajas de participar de la expotech?\",\n",
    "    k=4,\n",
    "    score_threshold=0.80,\n",
    ")\n",
    "from pprint import pprint\n",
    "\n",
    "pprint(docs_and_scores)"
   ]
  },
  {
   "cell_type": "code",
   "execution_count": null,
   "metadata": {},
   "outputs": [
    {
     "name": "stdout",
     "output_type": "stream",
     "text": [
      "5. Actualización en tendencias tecnológicas: Puedes conocer las innovaciones y \n",
      "desarrollos recientes en el sector, manteniéndote al día con los avances \n",
      "tecnológicos y aplicando ese conocimiento en tu negocio. \n",
      "6. Generación de oportunidades de negocio: La EXPO TECH está diseñada para \n",
      "ayudar a las empresas a encontrar nuevos socios y clientes. Las oportunidades de \n",
      "colaboración y las ventas pueden surgir durante o después del evento. \n",
      " \n",
      "Planes de Exhibición Disponibles: \n",
      "1. Plan A: \n",
      "o Inversión: $1,200.00 + ITBMS \n",
      "o Incluye un espacio físico de 3 metros x 2 metros, salida eléctrica hasta 500 \n",
      "watts, seguridad general, aire acondicionado, iluminación general y aseo \n",
      "general. \n",
      "2. Plan B: \n",
      "o Inversión: $1,500.00 + ITBMS \n",
      "o Incluye un stand de 3 metros x 2 metros con paredes blancas de melamina, \n",
      "una mesa con dos sillas y cesto de basura, toma corriente hasta 500 watts, \n",
      "iluminación con interruptor, rótulo con el nombre de la empresa en la fascia, \n",
      "aire acondicionado, iluminación general y aseo general.  \n",
      "Para inscribirte a alguno de estos planes de Exhibición debes llenar al formulario online que \n",
      "se encuentra en la siguiente dirección: https://forms.office.com/r/u506FuCueM  \n",
      " \n",
      "Oportunidades de Patrocinio: \n",
      "EXPO TECH 2025 brinda opciones de patrocinio que permiten a las empresas posicionarse \n",
      "como líderes en innovación y tecnología. Los patrocinadores obtienen beneficios \n",
      "adicionales, como mayor visibilidad de marca y oportunidades exclusivas de promoción.  \n",
      " \n",
      "Contacto para Participación: \n",
      "Para más información sobre la participación como expositor o patrocinador, puede \n",
      "comunicarse a través del correo electrónico tecnologia@panacamara.org o al teléfono +507 \n",
      "207-3497.\n"
     ]
    }
   ],
   "source": [
    "# Perform a hybrid search using the search_type parameter\n",
    "docs = vector_store.similarity_search(\n",
    "    query=\"cuales son las ventajas de participar de la expotech?\",\n",
    "    k=3,\n",
    "    search_type=\"hybrid\",\n",
    ")\n",
    "print(docs[0].page_content)"
   ]
  },
  {
   "cell_type": "code",
   "execution_count": 17,
   "metadata": {},
   "outputs": [
    {
     "name": "stdout",
     "output_type": "stream",
     "text": [
      "5. Actualización en tendencias tecnológicas: Puedes conocer las innovaciones y \n",
      "desarrollos recientes en el sector, manteniéndote al día con los avances \n",
      "tecnológicos y aplicando ese conocimiento en tu negocio. \n",
      "6. Generación de oportunidades de negocio: La EXPO TECH está diseñada para \n",
      "ayudar a las empresas a encontrar nuevos socios y clientes. Las oportunidades de \n",
      "colaboración y las ventas pueden surgir durante o después del evento. \n",
      " \n",
      "Planes de Exhibición Disponibles: \n",
      "1. Plan A: \n",
      "o Inversión: $1,200.00 + ITBMS \n",
      "o Incluye un espacio físico de 3 metros x 2 metros, salida eléctrica hasta 500 \n",
      "watts, seguridad general, aire acondicionado, iluminación general y aseo \n",
      "general. \n",
      "2. Plan B: \n",
      "o Inversión: $1,500.00 + ITBMS \n",
      "o Incluye un stand de 3 metros x 2 metros con paredes blancas de melamina, \n",
      "una mesa con dos sillas y cesto de basura, toma corriente hasta 500 watts, \n",
      "iluminación con interruptor, rótulo con el nombre de la empresa en la fascia, \n",
      "aire acondicionado, iluminación general y aseo general.  \n",
      "Para inscribirte a alguno de estos planes de Exhibición debes llenar al formulario online que \n",
      "se encuentra en la siguiente dirección: https://forms.office.com/r/u506FuCueM  \n",
      " \n",
      "Oportunidades de Patrocinio: \n",
      "EXPO TECH 2025 brinda opciones de patrocinio que permiten a las empresas posicionarse \n",
      "como líderes en innovación y tecnología. Los patrocinadores obtienen beneficios \n",
      "adicionales, como mayor visibilidad de marca y oportunidades exclusivas de promoción.  \n",
      " \n",
      "Contacto para Participación: \n",
      "Para más información sobre la participación como expositor o patrocinador, puede \n",
      "comunicarse a través del correo electrónico tecnologia@panacamara.org o al teléfono +507 \n",
      "207-3497.\n"
     ]
    }
   ],
   "source": [
    "# Perform a hybrid search using the hybrid_search method\n",
    "docs = vector_store.hybrid_search(\n",
    "    query=\"cuales son las ventajas de participar de la expotech?\", k=3\n",
    ")\n",
    "print(docs[0].page_content)"
   ]
  },
  {
   "cell_type": "code",
   "execution_count": null,
   "metadata": {},
   "outputs": [],
   "source": []
  }
 ],
 "metadata": {
  "kernelspec": {
   "display_name": "expotech_2025",
   "language": "python",
   "name": "python3"
  },
  "language_info": {
   "codemirror_mode": {
    "name": "ipython",
    "version": 3
   },
   "file_extension": ".py",
   "mimetype": "text/x-python",
   "name": "python",
   "nbconvert_exporter": "python",
   "pygments_lexer": "ipython3",
   "version": "3.12.3"
  }
 },
 "nbformat": 4,
 "nbformat_minor": 2
}
