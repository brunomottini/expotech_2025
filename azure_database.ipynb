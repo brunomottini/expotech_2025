{
 "cells": [
  {
   "cell_type": "code",
   "execution_count": 2,
   "metadata": {},
   "outputs": [
    {
     "data": {
      "text/plain": [
       "True"
      ]
     },
     "execution_count": 2,
     "metadata": {},
     "output_type": "execute_result"
    }
   ],
   "source": [
    "import pyodbc\n",
    "import os\n",
    "from dotenv import load_dotenv\n",
    "import pandas as pd\n",
    "\n",
    "load_dotenv()"
   ]
  },
  {
   "cell_type": "code",
   "execution_count": 3,
   "metadata": {},
   "outputs": [],
   "source": [
    "# Settings\n",
    "SERVER = os.environ.get(\"SQL_SERVER\")\n",
    "DATABASE = os.environ.get(\"SQL_DATABASE\")\n",
    "USERNAME = os.environ.get(\"SQL_USERNAME\")\n",
    "PASSWORD = os.environ.get(\"SQL_PASSWORD\")\n",
    "\n",
    "# Conexion\n",
    "connectionString = f\"Driver={{ODBC Driver 17 for SQL Server}};SERVER={SERVER},1433;DATABASE={DATABASE};UID={USERNAME};PWD={PASSWORD}\"\n"
   ]
  },
  {
   "cell_type": "code",
   "execution_count": 4,
   "metadata": {},
   "outputs": [],
   "source": [
    "# Función de conexión para manejar errores de conexión\n",
    "def connect_db():\n",
    "    try:\n",
    "        return pyodbc.connect(connectionString)\n",
    "    except pyodbc.Error as e:\n",
    "        print(f\"Error al conectar a la base de datos: {e}\")\n",
    "        return None"
   ]
  },
  {
   "cell_type": "markdown",
   "metadata": {},
   "source": [
    "## Cargar Tabla"
   ]
  },
  {
   "cell_type": "code",
   "execution_count": 5,
   "metadata": {},
   "outputs": [],
   "source": [
    "def load_table_to_dataframe(table_name):\n",
    "    \"\"\"\n",
    "    Carga los datos de una tabla desde la base de datos y los devuelve como un DataFrame de pandas.\n",
    "\n",
    "    Args:\n",
    "        table_name (str): El nombre de la tabla a consultar.\n",
    "\n",
    "    Returns:\n",
    "        pd.DataFrame | None: Un DataFrame con los datos de la tabla,\n",
    "        o None si ocurre un error.\n",
    "    \"\"\"\n",
    "    # Conectar a la base de datos\n",
    "    conn = connect_db()\n",
    "    if conn is None:\n",
    "        print(\n",
    "            \"No se pudo establecer conexión con la base de datos para cargar la tabla.\"\n",
    "        )\n",
    "        return None\n",
    "\n",
    "    try:\n",
    "        cursor = conn.cursor()\n",
    "\n",
    "        # Crear consulta SQL para seleccionar toda la tabla\n",
    "        query = f\"SELECT * FROM {table_name}\"\n",
    "        cursor.execute(query)\n",
    "        rows = cursor.fetchall()\n",
    "        columns = [column[0] for column in cursor.description]\n",
    "\n",
    "        # Debugging: verificar datos recuperados\n",
    "        print(\"Rows:\", rows)\n",
    "        print(\"Columns:\", columns)\n",
    "\n",
    "        # Limpiar los datos para manejar valores vacíos\n",
    "        cleaned_rows = [\n",
    "            tuple(value if value != \"\" else None for value in row) for row in rows\n",
    "        ]\n",
    "\n",
    "        # Convertir las filas en un DataFrame de pandas\n",
    "        df = pd.DataFrame(cleaned_rows, columns=columns)\n",
    "        print(\"Datos cargados exitosamente desde la tabla.\")\n",
    "\n",
    "        return df\n",
    "\n",
    "    except Exception as e:\n",
    "        print(f\"Error al cargar los datos de la tabla '{table_name}': {e}\")\n",
    "        return None\n",
    "\n",
    "    finally:\n",
    "        if conn:\n",
    "            conn.close()"
   ]
  },
  {
   "cell_type": "code",
   "execution_count": 11,
   "metadata": {},
   "outputs": [
    {
     "name": "stdout",
     "output_type": "stream",
     "text": [
      "Rows: []\n",
      "Columns: ['id_contacto', 'fecha_registro', 'nombre_contacto', 'nombre_empresa', 'mail_contacto', 'numero_contacto', 'motivo_contacto']\n",
      "Datos cargados exitosamente desde la tabla.\n"
     ]
    },
    {
     "data": {
      "text/html": [
       "<div>\n",
       "<style scoped>\n",
       "    .dataframe tbody tr th:only-of-type {\n",
       "        vertical-align: middle;\n",
       "    }\n",
       "\n",
       "    .dataframe tbody tr th {\n",
       "        vertical-align: top;\n",
       "    }\n",
       "\n",
       "    .dataframe thead th {\n",
       "        text-align: right;\n",
       "    }\n",
       "</style>\n",
       "<table border=\"1\" class=\"dataframe\">\n",
       "  <thead>\n",
       "    <tr style=\"text-align: right;\">\n",
       "      <th></th>\n",
       "      <th>id_contacto</th>\n",
       "      <th>fecha_registro</th>\n",
       "      <th>nombre_contacto</th>\n",
       "      <th>nombre_empresa</th>\n",
       "      <th>mail_contacto</th>\n",
       "      <th>numero_contacto</th>\n",
       "      <th>motivo_contacto</th>\n",
       "    </tr>\n",
       "  </thead>\n",
       "  <tbody>\n",
       "  </tbody>\n",
       "</table>\n",
       "</div>"
      ],
      "text/plain": [
       "Empty DataFrame\n",
       "Columns: [id_contacto, fecha_registro, nombre_contacto, nombre_empresa, mail_contacto, numero_contacto, motivo_contacto]\n",
       "Index: []"
      ]
     },
     "execution_count": 11,
     "metadata": {},
     "output_type": "execute_result"
    }
   ],
   "source": [
    "# Cargamos tabla\n",
    "ds_contacto_persona = load_table_to_dataframe(\"expo25_contacto_persona\")\n",
    "ds_contacto_persona"
   ]
  },
  {
   "cell_type": "code",
   "execution_count": 7,
   "metadata": {},
   "outputs": [
    {
     "name": "stdout",
     "output_type": "stream",
     "text": [
      "Rows: [(4001, 'No', ''), (4002, 'No', ''), (4003, 'No', ''), (4004, 'No', '')]\n",
      "Columns: ['id_espacio', 'ocupado', 'nombre_empresa']\n",
      "Datos cargados exitosamente desde la tabla.\n"
     ]
    },
    {
     "data": {
      "text/html": [
       "<div>\n",
       "<style scoped>\n",
       "    .dataframe tbody tr th:only-of-type {\n",
       "        vertical-align: middle;\n",
       "    }\n",
       "\n",
       "    .dataframe tbody tr th {\n",
       "        vertical-align: top;\n",
       "    }\n",
       "\n",
       "    .dataframe thead th {\n",
       "        text-align: right;\n",
       "    }\n",
       "</style>\n",
       "<table border=\"1\" class=\"dataframe\">\n",
       "  <thead>\n",
       "    <tr style=\"text-align: right;\">\n",
       "      <th></th>\n",
       "      <th>id_espacio</th>\n",
       "      <th>ocupado</th>\n",
       "      <th>nombre_empresa</th>\n",
       "    </tr>\n",
       "  </thead>\n",
       "  <tbody>\n",
       "    <tr>\n",
       "      <th>0</th>\n",
       "      <td>4001</td>\n",
       "      <td>No</td>\n",
       "      <td>None</td>\n",
       "    </tr>\n",
       "    <tr>\n",
       "      <th>1</th>\n",
       "      <td>4002</td>\n",
       "      <td>No</td>\n",
       "      <td>None</td>\n",
       "    </tr>\n",
       "    <tr>\n",
       "      <th>2</th>\n",
       "      <td>4003</td>\n",
       "      <td>No</td>\n",
       "      <td>None</td>\n",
       "    </tr>\n",
       "    <tr>\n",
       "      <th>3</th>\n",
       "      <td>4004</td>\n",
       "      <td>No</td>\n",
       "      <td>None</td>\n",
       "    </tr>\n",
       "  </tbody>\n",
       "</table>\n",
       "</div>"
      ],
      "text/plain": [
       "   id_espacio ocupado nombre_empresa\n",
       "0        4001      No           None\n",
       "1        4002      No           None\n",
       "2        4003      No           None\n",
       "3        4004      No           None"
      ]
     },
     "execution_count": 7,
     "metadata": {},
     "output_type": "execute_result"
    }
   ],
   "source": [
    "ds_contacto_persona = load_table_to_dataframe(\"expo25_espacios\")\n",
    "ds_contacto_persona"
   ]
  },
  {
   "cell_type": "markdown",
   "metadata": {},
   "source": [
    "## Modificar Tabla"
   ]
  },
  {
   "cell_type": "code",
   "execution_count": null,
   "metadata": {},
   "outputs": [],
   "source": []
  },
  {
   "cell_type": "code",
   "execution_count": null,
   "metadata": {},
   "outputs": [],
   "source": []
  },
  {
   "cell_type": "markdown",
   "metadata": {},
   "source": [
    "## Cambia Nombre, Crea Tabla, Copia datos, Verifica Datos, Elimina la Vieja"
   ]
  },
  {
   "cell_type": "code",
   "execution_count": null,
   "metadata": {},
   "outputs": [
    {
     "name": "stdout",
     "output_type": "stream",
     "text": [
      "Script ejecutado con éxito. La columna IDENTITY fue eliminada.\n"
     ]
    }
   ],
   "source": [
    "def ejecutar_script_eliminar_identity():\n",
    "    # Conexión a la base de datos\n",
    "    try:\n",
    "        conn = connect_db()\n",
    "        cursor = conn.cursor()\n",
    "\n",
    "        # Script SQL para eliminar la propiedad IDENTITY\n",
    "        script_sql = \"\"\"\n",
    "                -- Paso 1: Renombrar la tabla original\n",
    "        EXEC sp_rename 'expo25_espacios', 'expo25_espacios_old';\n",
    "\n",
    "        -- Paso 2: Crear una nueva tabla sin la propiedad IDENTITY en la columna id_espacio\n",
    "        CREATE TABLE expo25_espacios (\n",
    "            id_espacio INT PRIMARY KEY, -- Sin IDENTITY\n",
    "            ocupado NVARCHAR(3) NOT NULL CHECK (ocupado IN ('Si', 'No')),            \n",
    "            nombre_empresa NVARCHAR(255) NULL\n",
    "        );\n",
    "        \n",
    "          -- Paso 3: Copiar los datos de la tabla original a la nueva tabla\n",
    "        INSERT INTO expo25_espacios (id_espacio, ocupado, id_empresa, nombre_empresa)\n",
    "        SELECT id_espacio, ocupado, id_empresa, nombre_empresa\n",
    "        FROM expo25_espacios_old;\n",
    "\n",
    "        -- Paso 4: (Opcional) Verificar los datos en la nueva tabla\n",
    "        SELECT * FROM expo25_espacios;\n",
    "      \n",
    "\n",
    "\n",
    "        -- Paso 5: Eliminar la tabla original si todo está correcto\n",
    "        DROP TABLE expo25_espacios_old;\n",
    "        \"\"\"\n",
    "\n",
    "\n",
    "        # Ejecutar el script SQL\n",
    "        cursor.execute(script_sql)\n",
    "        conn.commit()\n",
    "        print(\"Script ejecutado con éxito. La columna IDENTITY fue eliminada.\")\n",
    "\n",
    "    except pyodbc.Error as e:\n",
    "        print(f\"Error al ejecutar el script: {e}\")\n",
    "\n",
    "    finally:\n",
    "        if cursor:\n",
    "            cursor.close()\n",
    "        if conn:\n",
    "            conn.close()\n",
    "\n",
    "# Llamar a la función para ejecutar el script\n",
    "\n",
    "\n",
    "\n",
    "\n",
    "\n",
    "#EJECUTAR\n",
    "## ejecutar_script_eliminar_identity()"
   ]
  },
  {
   "cell_type": "code",
   "execution_count": null,
   "metadata": {},
   "outputs": [],
   "source": []
  },
  {
   "cell_type": "code",
   "execution_count": null,
   "metadata": {},
   "outputs": [],
   "source": []
  },
  {
   "cell_type": "code",
   "execution_count": null,
   "metadata": {},
   "outputs": [],
   "source": []
  },
  {
   "cell_type": "code",
   "execution_count": null,
   "metadata": {},
   "outputs": [],
   "source": []
  },
  {
   "cell_type": "markdown",
   "metadata": {},
   "source": [
    "## Crear Tabla"
   ]
  },
  {
   "cell_type": "code",
   "execution_count": null,
   "metadata": {},
   "outputs": [],
   "source": [
    "\n",
    "# Crear tabla QUIERO_ME_CONTACTEN\n",
    "def create_table_expo25_contacto_persona():\n",
    "    try:\n",
    "        with connect_db() as conn:\n",
    "            with conn.cursor() as cursor:\n",
    "                cursor.execute(\n",
    "                    \"\"\"\n",
    "                    CREATE TABLE expo25_contacto_persona (\n",
    "                        id_contacto INT IDENTITY(1,1) PRIMARY KEY,      -- Identificador único del contacto\n",
    "                        fecha_registro DATETIME DEFAULT GETDATE(),      -- Fecha de registro, valor por defecto la fecha actual\n",
    "                        nombre_contacto NVARCHAR(100) NOT NULL,         -- Nombre de la persona a contactar\n",
    "                        nombre_empresa NVARCHAR(100) NULL,             -- Nombre de la empresa (opcional)\n",
    "                        mail_contacto NVARCHAR(150) NOT NULL,           -- Correo electrónico de contacto\n",
    "                        numero_contacto NVARCHAR(15) NOT NULL,          -- Número de teléfono de contacto                        \n",
    "                        motivo_contacto NVARCHAR(MAX) NOT NULL          -- Descripción del motivo de contacto\n",
    "                    )\n",
    "                    \"\"\"\n",
    "                )\n",
    "                conn.commit()\n",
    "                print(\"Tabla 'expo25_contacto_persona' creada exitosamente.\")\n",
    "    except pyodbc.Error as e:\n",
    "        print(f\"Error al crear la tabla 'expo25_contacto_persona': {e}\")\n"
   ]
  },
  {
   "cell_type": "code",
   "execution_count": 14,
   "metadata": {},
   "outputs": [
    {
     "name": "stdout",
     "output_type": "stream",
     "text": [
      "Tabla 'expo25_contacto_persona' creada exitosamente.\n"
     ]
    }
   ],
   "source": [
    "\n",
    "# Crear tabla QUIERO_ME_CONTACTEN\n",
    "def create_table_expo25_espacios():\n",
    "    try:\n",
    "        with connect_db() as conn:\n",
    "            with conn.cursor() as cursor:\n",
    "                cursor.execute(\n",
    "                    \"\"\"\n",
    "                    CREATE TABLE expo25_espacios (\n",
    "                    id_espacio INT PRIMARY KEY IDENTITY(1,1),\n",
    "                    ocupado NVARCHAR(3) NOT NULL CHECK (ocupado IN ('Si', 'No')),\n",
    "                    id_empresa UNIQUEIDENTIFIER NULL,\n",
    "                    nombre_empresa NVARCHAR(255) NULL\n",
    "                );\n",
    "                    \"\"\"\n",
    "                )\n",
    "                conn.commit()\n",
    "                print(\"Tabla 'expo25_contacto_persona' creada exitosamente.\")\n",
    "    except pyodbc.Error as e:\n",
    "        print(f\"Error al crear la tabla 'expo25_contacto_persona': {e}\")\n",
    "\n",
    "create_table_expo25_espacios()"
   ]
  },
  {
   "cell_type": "code",
   "execution_count": null,
   "metadata": {},
   "outputs": [],
   "source": []
  }
 ],
 "metadata": {
  "kernelspec": {
   "display_name": "expotech_2025",
   "language": "python",
   "name": "python3"
  },
  "language_info": {
   "codemirror_mode": {
    "name": "ipython",
    "version": 3
   },
   "file_extension": ".py",
   "mimetype": "text/x-python",
   "name": "python",
   "nbconvert_exporter": "python",
   "pygments_lexer": "ipython3",
   "version": "3.12.3"
  }
 },
 "nbformat": 4,
 "nbformat_minor": 2
}
