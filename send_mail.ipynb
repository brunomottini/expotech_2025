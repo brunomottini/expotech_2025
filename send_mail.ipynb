{
 "cells": [
  {
   "cell_type": "code",
   "execution_count": 1,
   "metadata": {},
   "outputs": [],
   "source": [
    "import smtplib\n",
    "from email.mime.multipart import MIMEMultipart\n",
    "from email.mime.text import MIMEText\n",
    "from email.mime.base import MIMEBase\n",
    "from email import encoders\n",
    "import os\n"
   ]
  },
  {
   "cell_type": "code",
   "execution_count": 4,
   "metadata": {},
   "outputs": [],
   "source": [
    "\n",
    "def enviar_mail_confirmacion(\n",
    "    mail_contacto: str,\n",
    "):\n",
    "    \"\"\"\n",
    "    Envía un correo con un logo incluido al final del mensaje.\n",
    "\n",
    "    Parámetros:\n",
    "    - mail_contacto (str): Correo del destinatario.\n",
    "    \"\"\"\n",
    "\n",
    "    sender_email = \"bruno@dsinergia.com\"\n",
    "    sender_password = \"zpcl xoii tiyt lwyj\"\n",
    "    logo_path = os.path.join(os.getcwd(), \"static\", \"empresas\", \"visnai_logo_mail.png\")\n",
    "    subject = \"Confirmacion de contacto\"\n",
    "    body = \"Este es un mensaje de conformacion!. En breve una persona se contactara para darte mas informacion!!!\"\n",
    "\n",
    "    # Crear el correo\n",
    "    message = MIMEMultipart(\"related\")\n",
    "    message[\"From\"] = sender_email\n",
    "    message[\"To\"] = mail_contacto\n",
    "    message[\"Subject\"] = subject\n",
    "\n",
    "    # Cuerpo del correo con HTML para incluir la imagen\n",
    "    html_body = f\"\"\"\n",
    "    <html>\n",
    "        <body>\n",
    "            <p>{body}</p>\n",
    "            <br>\n",
    "           <p>Equipo Visnai</p>\n",
    "                <img src=\"cid:logo\" alt=\"Logo de la empresa\" style=\"width:150px; height:auto;\">\n",
    "        </body>\n",
    "    </html>\n",
    "    \"\"\"\n",
    "\n",
    "    # Adjuntar cuerpo HTML\n",
    "    message.attach(MIMEText(html_body, \"html\"))\n",
    "\n",
    "    # Adjuntar el logo como imagen\n",
    "    try:\n",
    "        with open(logo_path, \"rb\") as logo_file:\n",
    "            mime_logo = MIMEBase(\"image\", \"png\", filename=\"visnai_logo_mail.png\")\n",
    "            mime_logo.set_payload(logo_file.read())\n",
    "            encoders.encode_base64(mime_logo)\n",
    "            mime_logo.add_header(\"Content-ID\", \"<logo>\")\n",
    "            mime_logo.add_header(\n",
    "                \"Content-Disposition\", \"inline\", filename=\"visnai_logo_mail.png\"\n",
    "            )\n",
    "            message.attach(mime_logo)\n",
    "    except Exception as e:\n",
    "        print(f\"Error al adjuntar el logo: {e}\")\n",
    "        return \"No se pudo adjuntar el logo al correo.\"\n",
    "\n",
    "    # Enviar el correo\n",
    "    try:\n",
    "        with smtplib.SMTP_SSL(\"smtp.gmail.com\", 465) as server:\n",
    "            server.login(sender_email, sender_password)\n",
    "            server.sendmail(sender_email, mail_contacto, message.as_string())\n",
    "        print(f\"Correo enviado con éxito a {mail_contacto}\")\n",
    "    except smtplib.SMTPAuthenticationError:\n",
    "        print(\n",
    "            \"Error de autenticación: Verifica tus credenciales o la configuración de seguridad de tu cuenta.\"\n",
    "        )\n",
    "    except Exception as e:\n",
    "        print(f\"Error al enviar el correo: {e}\")"
   ]
  },
  {
   "cell_type": "code",
   "execution_count": 5,
   "metadata": {},
   "outputs": [
    {
     "name": "stdout",
     "output_type": "stream",
     "text": [
      "Correo enviado con éxito a bruno.mottini88@gmail.com\n"
     ]
    }
   ],
   "source": [
    "enviar_mail_confirmacion(\"bruno.mottini88@gmail.com\")"
   ]
  },
  {
   "cell_type": "code",
   "execution_count": null,
   "metadata": {},
   "outputs": [],
   "source": []
  }
 ],
 "metadata": {
  "kernelspec": {
   "display_name": "expotech_2025",
   "language": "python",
   "name": "python3"
  },
  "language_info": {
   "codemirror_mode": {
    "name": "ipython",
    "version": 3
   },
   "file_extension": ".py",
   "mimetype": "text/x-python",
   "name": "python",
   "nbconvert_exporter": "python",
   "pygments_lexer": "ipython3",
   "version": "3.12.3"
  }
 },
 "nbformat": 4,
 "nbformat_minor": 2
}
